{
  "nbformat": 4,
  "nbformat_minor": 0,
  "metadata": {
    "colab": {
      "name": "MLCourse.ipynb",
      "provenance": [],
      "collapsed_sections": [],
      "authorship_tag": "ABX9TyM7f1hY3dau4DQBVlYoE4j0",
      "include_colab_link": true
    },
    "kernelspec": {
      "name": "python3",
      "display_name": "Python 3"
    }
  },
  "cells": [
    {
      "cell_type": "markdown",
      "metadata": {
        "id": "view-in-github",
        "colab_type": "text"
      },
      "source": [
        "<a href=\"https://colab.research.google.com/github/movvaashok/MachineLearningCourse/blob/master/MLCourse.ipynb\" target=\"_parent\"><img src=\"https://colab.research.google.com/assets/colab-badge.svg\" alt=\"Open In Colab\"/></a>"
      ]
    },
    {
      "cell_type": "code",
      "metadata": {
        "id": "mHQ07cCFhJZE",
        "colab_type": "code",
        "colab": {
          "base_uri": "https://localhost:8080/",
          "height": 34
        },
        "outputId": "8c871e37-3d47-4b41-900f-ee2e6d8731dd"
      },
      "source": [
        "salary=1000\n",
        "bonus=6000\n",
        "tax=150\n",
        "netSalary=salary+bonus-tax\n",
        "print(netSalary)"
      ],
      "execution_count": 1,
      "outputs": [
        {
          "output_type": "stream",
          "text": [
            "6850\n"
          ],
          "name": "stdout"
        }
      ]
    },
    {
      "cell_type": "code",
      "metadata": {
        "id": "ke5RLEW5kaM8",
        "colab_type": "code",
        "colab": {
          "base_uri": "https://localhost:8080/",
          "height": 34
        },
        "outputId": "16d69960-3456-466f-8a57-d8983be65e54"
      },
      "source": [
        "firstName=\"Ashok\"\n",
        "lastName=\"Movva\"\n",
        "print(firstName+\" \"+lastName)"
      ],
      "execution_count": 2,
      "outputs": [
        {
          "output_type": "stream",
          "text": [
            "Ashok Movva\n"
          ],
          "name": "stdout"
        }
      ]
    },
    {
      "cell_type": "code",
      "metadata": {
        "id": "6No_MBDsns2R",
        "colab_type": "code",
        "colab": {
          "base_uri": "https://localhost:8080/",
          "height": 34
        },
        "outputId": "fe3c38a1-fb89-4962-e70c-d0a933e318e5"
      },
      "source": [
        "firstName=\"ashok\"\n",
        "salary=5000\n",
        "print(\"My name is {} and my salary is {}\".format(firstName,salary))"
      ],
      "execution_count": 4,
      "outputs": [
        {
          "output_type": "stream",
          "text": [
            "My name is ashok and my salary is 5000\n"
          ],
          "name": "stdout"
        }
      ]
    }
  ]
}